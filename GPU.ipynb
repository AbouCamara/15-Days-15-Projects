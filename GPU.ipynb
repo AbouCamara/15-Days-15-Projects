{
  "nbformat": 4,
  "nbformat_minor": 0,
  "metadata": {
    "colab": {
      "name": "Untitled7.ipynb",
      "provenance": [],
      "authorship_tag": "ABX9TyPqzZXfGpp+PZJe5wJDXGmj",
      "include_colab_link": true
    },
    "kernelspec": {
      "name": "python3",
      "display_name": "Python 3"
    },
    "language_info": {
      "name": "python"
    },
    "accelerator": "GPU"
  },
  "cells": [
    {
      "cell_type": "markdown",
      "metadata": {
        "id": "view-in-github",
        "colab_type": "text"
      },
      "source": [
        "<a href=\"https://colab.research.google.com/github/AbouCamara/15-Days-15-Projects/blob/main/GPU.ipynb\" target=\"_parent\"><img src=\"https://colab.research.google.com/assets/colab-badge.svg\" alt=\"Open In Colab\"/></a>"
      ]
    },
    {
      "cell_type": "code",
      "metadata": {
        "id": "ty0IDJM5wM5e",
        "colab": {
          "base_uri": "https://localhost:8080/"
        },
        "outputId": "88384f9f-2746-471c-e30e-a67131995e3c"
      },
      "source": [
        "import cupy as cp\n",
        "import cupyx.scipy.sparse\n",
        "import numpy as np\n",
        "from scipy import fft\n",
        "array_cpu = np.random.randint(0, 255, size=(4000, 4000))\n",
        "array_cpu.nbytes / 1e6\n",
        "array_gpu = cp.asarray(array_cpu)\n",
        "%timeit\n",
        "cp.asarray(array_cpu)\n",
        "type(array_gpu)"
      ],
      "execution_count": 1,
      "outputs": [
        {
          "output_type": "execute_result",
          "data": {
            "text/plain": [
              "cupy._core.core.ndarray"
            ]
          },
          "metadata": {},
          "execution_count": 1
        }
      ]
    },
    {
      "cell_type": "code",
      "metadata": {
        "id": "0g5IY2Fa6zlS"
      },
      "source": [
        "from cupyx.scipy import fft as fft_gpu\n",
        "%timeit\n",
        "fft_gpu.fftn(array_gpu)"
      ],
      "execution_count": null,
      "outputs": []
    },
    {
      "cell_type": "code",
      "metadata": {
        "colab": {
          "base_uri": "https://localhost:8080/"
        },
        "id": "cOxLfscA8-mh",
        "outputId": "a7b3a993-4747-411b-fea1-af8109237f1d"
      },
      "source": [
        "fft_cpu = fft.fftn(array_cpu)\n",
        "fft_sent_back = cp.asnumpy(fft_gpu.fftn(array_gpu))\n",
        "np.allclose(fft_sent_back, fft_cpu)"
      ],
      "execution_count": 5,
      "outputs": [
        {
          "output_type": "execute_result",
          "data": {
            "text/plain": [
              "True"
            ]
          },
          "metadata": {},
          "execution_count": 5
        }
      ]
    },
    {
      "cell_type": "code",
      "metadata": {
        "colab": {
          "base_uri": "https://localhost:8080/"
        },
        "id": "5qScqNCOK6V5",
        "outputId": "252dbb64-39cf-4a03-90e3-a22563abae7c"
      },
      "source": [
        "type(np.max(array_gpu))"
      ],
      "execution_count": 6,
      "outputs": [
        {
          "output_type": "execute_result",
          "data": {
            "text/plain": [
              "cupy._core.core.ndarray"
            ]
          },
          "metadata": {},
          "execution_count": 6
        }
      ]
    },
    {
      "cell_type": "code",
      "metadata": {
        "colab": {
          "base_uri": "https://localhost:8080/"
        },
        "id": "thoOHW30O4IE",
        "outputId": "ed37ec71-4ca3-4f13-83c5-707fa2013234"
      },
      "source": [
        "cp.random.randint(0, 255, size=(4000, 4000))"
      ],
      "execution_count": 7,
      "outputs": [
        {
          "output_type": "execute_result",
          "data": {
            "text/plain": [
              "array([[ 71,  44,  33, ..., 201, 135, 103],\n",
              "       [  5, 129,  53, ...,   6, 135,  69],\n",
              "       [135,  59, 150, ...,  22, 104,  22],\n",
              "       ...,\n",
              "       [  7, 103, 216, ..., 153, 227, 136],\n",
              "       [212, 165, 169, ..., 229, 207, 154],\n",
              "       [208, 141,  27, ..., 163, 171, 222]])"
            ]
          },
          "metadata": {},
          "execution_count": 7
        }
      ]
    },
    {
      "cell_type": "code",
      "metadata": {
        "colab": {
          "base_uri": "https://localhost:8080/"
        },
        "id": "T7_xKsIG7gU2",
        "outputId": "23ab9e83-5690-4d2b-eb10-3405f200da70"
      },
      "source": [
        "from numba import cuda\n",
        "cuda.detect()"
      ],
      "execution_count": 3,
      "outputs": [
        {
          "output_type": "stream",
          "name": "stdout",
          "text": [
            "Found 1 CUDA devices\n",
            "id 0            b'Tesla K80'                              [SUPPORTED]\n",
            "                      compute capability: 3.7\n",
            "                           pci device id: 4\n",
            "                              pci bus id: 0\n",
            "Summary:\n",
            "\t1/1 devices are supported\n"
          ]
        },
        {
          "output_type": "execute_result",
          "data": {
            "text/plain": [
              "True"
            ]
          },
          "metadata": {},
          "execution_count": 3
        }
      ]
    },
    {
      "cell_type": "code",
      "metadata": {
        "colab": {
          "base_uri": "https://localhost:8080/"
        },
        "id": "ud4kj5dP-BHp",
        "outputId": "5d862cd9-4ffe-4030-c3cd-08f623031543"
      },
      "source": [
        "array_cpu = np.random.randint(0, 10, size=(2000, 2000))\n",
        "d_array = cuda.to_device(array_cpu)\n",
        "d_array"
      ],
      "execution_count": 5,
      "outputs": [
        {
          "output_type": "execute_result",
          "data": {
            "text/plain": [
              "<numba.cuda.cudadrv.devicearray.DeviceNDArray at 0x7fb40427d490>"
            ]
          },
          "metadata": {},
          "execution_count": 5
        }
      ]
    },
    {
      "cell_type": "code",
      "metadata": {
        "colab": {
          "base_uri": "https://localhost:8080/"
        },
        "id": "MWtXAFa4CRgU",
        "outputId": "1a11010d-26b2-4279-ecb3-6355a7bca9af"
      },
      "source": [
        "cp.asarray(d_array)"
      ],
      "execution_count": 6,
      "outputs": [
        {
          "output_type": "execute_result",
          "data": {
            "text/plain": [
              "array([[1, 5, 2, ..., 6, 0, 3],\n",
              "       [1, 1, 5, ..., 2, 8, 9],\n",
              "       [3, 9, 4, ..., 4, 1, 7],\n",
              "       ...,\n",
              "       [2, 3, 1, ..., 7, 3, 9],\n",
              "       [1, 8, 0, ..., 0, 4, 3],\n",
              "       [0, 6, 1, ..., 0, 6, 3]])"
            ]
          },
          "metadata": {},
          "execution_count": 6
        }
      ]
    },
    {
      "cell_type": "code",
      "metadata": {
        "colab": {
          "base_uri": "https://localhost:8080/"
        },
        "id": "ccsYdPP8Czkt",
        "outputId": "ce33d91f-14ff-407a-c9a3-5fe3550c6a97"
      },
      "source": [
        "d_array.copy_to_host()"
      ],
      "execution_count": 8,
      "outputs": [
        {
          "output_type": "execute_result",
          "data": {
            "text/plain": [
              "array([[1, 5, 2, ..., 6, 0, 3],\n",
              "       [1, 1, 5, ..., 2, 8, 9],\n",
              "       [3, 9, 4, ..., 4, 1, 7],\n",
              "       ...,\n",
              "       [2, 3, 1, ..., 7, 3, 9],\n",
              "       [1, 8, 0, ..., 0, 4, 3],\n",
              "       [0, 6, 1, ..., 0, 6, 3]])"
            ]
          },
          "metadata": {},
          "execution_count": 8
        }
      ]
    }
  ]
}